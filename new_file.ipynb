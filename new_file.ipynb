{
 "cells": [
  {
   "cell_type": "code",
   "execution_count": 2,
   "metadata": {},
   "outputs": [],
   "source": [
    "import math\n",
    "import numpy as np \n",
    "from numpy import polynomial as P "
   ]
  },
  {
   "cell_type": "markdown",
   "metadata": {
    "vscode": {
     "languageId": "plaintext"
    }
   },
   "source": [
    "### zadanie 2 \n",
    "- co robi: mamy x_values, y_values, bierzemy punkt x0, jaka jest wartość tego wielomianu w punkcie y \n",
    "- jak sprawdzać:\n",
    "    - dobieramy funkcje, losujemy z niej losowe punkty i porównujemy jak te funkcje są odległe od siebie \n",
    "    - zrobić do tego wykres, (kilka zeby porownac)\n",
    "    - mozna sprawdzic ile iteracji jest potrzebnych do osiagniecia malego bledu: blad ustalamy po osiagnieciu dostatecznie malego bledu zapisuje nam indeks, robimy to na roznych funkcjach i porownujemy srednia, jakas logarytmy, cosinusy o roznych wspolczynnikach \n",
    "    - dobieramy funkcje (1+x**2)*(-1) \n",
    "        - dlaczego to jest takie koślawe i takie błeddy: częste zmiany pochodnej powowduja ze proste ktore lacza punkty raz ida w dol raz w gore, miedzy jedna przerwa wiec zalezy jak trafimy te punkty, na koncach tylko funkcja nie dziala \n",
    "- zrobić dla funkcji wielowymiarowej (2x1) ~ opcjonalne \n",
    "    - to co powyzej "
   ]
  },
  {
   "cell_type": "code",
   "execution_count": null,
   "metadata": {},
   "outputs": [],
   "source": [
    "def neville(datax, datay, x):\n",
    "    n = len(list(datax))\n",
    "    p = [[0] for i in range(n)]\n",
    "    for k in range(n):\n",
    "        for i in range(n-k):\n",
    "            if k == 0:\n",
    "                p[i] = datay[i]\n",
    "            else:\n",
    "                p[i] = ((x-datax[i+k])*p[i]+ \\\n",
    "                        (datax[i]-x)*p[i+1])/ \\\n",
    "                        (datax[i]-datax[i+k])\n",
    "    return p[0]"
   ]
  },
  {
   "cell_type": "code",
   "execution_count": 31,
   "metadata": {},
   "outputs": [
    {
     "data": {
      "text/plain": [
       "-0.13970774909946293"
      ]
     },
     "execution_count": 31,
     "metadata": {},
     "output_type": "execute_result"
    }
   ],
   "source": [
    "# amount of points\n",
    "n = 5\n",
    "points = [i for i in range(n)]\n",
    "function = lambda x: math.cos(x)*math.sin(x)\n",
    "neville(points, [function(x) for x in points], 3)\n",
    "\n",
    "\n"
   ]
  },
  {
   "cell_type": "markdown",
   "metadata": {},
   "source": [
    "### zadanie 3\n",
    "- sprawdzamy\n",
    "    - rysujemy wykresy, sprawdzamy jak poprzednio, jak zbiezne do danej funkcji, sprawdzamy normami\n",
    "    - sprawdzic znowu dla kilku funkcji (trygonometryczne, wielomian, cos tam )\n",
    "\n",
    "    "
   ]
  },
  {
   "cell_type": "code",
   "execution_count": 7,
   "metadata": {},
   "outputs": [],
   "source": [
    "def newton_polynomial(x: list, f: list) -> list:\n",
    "    '''Takes n-points and returns coeficcents of '''\n",
    "    n = len(x)\n",
    "    # Copy of f for constructing the divided difference table\n",
    "    divided_diff = np.copy(f)  \n",
    "    # Compute divided differences\n",
    "    for k in range(1, n):\n",
    "        for i in range(n - 1, k - 1, -1):\n",
    "            divided_diff[i] = (divided_diff[i] - divided_diff[i - 1]) / (x[i] - x[i - k])\n",
    "    \n",
    "    return divided_diff  # Coefficients b_0, b_1, ..., b_n\n",
    "    \n"
   ]
  },
  {
   "cell_type": "code",
   "execution_count": 8,
   "metadata": {},
   "outputs": [
    {
     "data": {
      "text/plain": [
       "array([4, 1, 0])"
      ]
     },
     "execution_count": 8,
     "metadata": {},
     "output_type": "execute_result"
    }
   ],
   "source": [
    "newton_polynomial([3,1,2], [4,1,2])"
   ]
  },
  {
   "cell_type": "markdown",
   "metadata": {},
   "source": [
    "### zadanie 4"
   ]
  },
  {
   "cell_type": "markdown",
   "metadata": {},
   "source": [
    "### zadanie 5\n",
    "- dlaczego raz w postaci naturalnej, raz newtona ?\n",
    "- zalezy od potrzeby \n",
    "- T_k baza wielomianow, mozemy zapisac wielomian jako wspolczynnik * bazaczebyszewa\n",
    "- mozna latwo obliczyc wartosci funkcji w punkcie, liniowa zlozonosc reszta jest kwadratowa\n",
    "    - powinien byc znacznie szybszy od innych \n",
    "- testowanie\n",
    "    - porównać czas wyliczenia wartości między tym algorytmem a poprzednimi \n",
    "    - porównywanie na rysnku wielomianu czebyszewa \n",
    "\n",
    "- fraktale ~ skala sie zmniejsza a one wciaz wygladaja tak samo "
   ]
  },
  {
   "cell_type": "markdown",
   "metadata": {},
   "source": [
    "converting polynomials to chebyszech (getting coeficents)"
   ]
  },
  {
   "cell_type": "code",
   "execution_count": 66,
   "metadata": {},
   "outputs": [],
   "source": [
    "\n",
    "# poly of (x) returns value of polynomial at x=x \n",
    "def coef_change(x : list):\n",
    "# value we insert Polynomial we create object with certain coeficent\n",
    "    coef = np.array(x)\n",
    "    poly = np.polynomial.Polynomial(coef)\n",
    "    # converting to chebyszev \n",
    "    poly_cheby = poly.convert(kind=P.Chebyshev)\n",
    "    # coeficents of polynmial converted to czebyszev\n",
    "    return poly_cheby.coef"
   ]
  },
  {
   "cell_type": "code",
   "execution_count": null,
   "metadata": {},
   "outputs": [],
   "source": [
    "# TODO mistaken because it gave wrong answer to basic polynomial, \n",
    "def cleanshaw_algorithm(coef: list, x: float):\n",
    "    '''Takes coeficent of czebyszech polynomial'''\n",
    "    d = [0 for i in range(3)]\n",
    "    for i in range(len(coef) - 1, -1, -1):\n",
    "        d[0] = 2*x*d[1] - d[2] + coef[i - 1]\n",
    "        d[2], d[1] = d[1], d[0] \n",
    "    return x * d[1] + coef[0] - d[2]"
   ]
  },
  {
   "cell_type": "code",
   "execution_count": null,
   "metadata": {},
   "outputs": [
    {
     "data": {
      "text/plain": [
       "8.5"
      ]
     },
     "execution_count": 74,
     "metadata": {},
     "output_type": "execute_result"
    }
   ],
   "source": [
    "\n",
    "cleanshaw_algorithm(coef_change([1, 2, 3]), 1)"
   ]
  },
  {
   "cell_type": "code",
   "execution_count": 65,
   "metadata": {},
   "outputs": [
    {
     "data": {
      "text/plain": [
       "[10, 9, 8, 7, 6, 5, 4, 3, 2, 1, 0]"
      ]
     },
     "execution_count": 65,
     "metadata": {},
     "output_type": "execute_result"
    }
   ],
   "source": [
    "list(range(10,-1, -1))"
   ]
  },
  {
   "cell_type": "markdown",
   "metadata": {},
   "source": [
    "### Zadanie 6\n",
    "Interpolacja trygonometryczna \n",
    "- zwraca wielomian w postaci trygonometrycznej, który jest równo interpolowany w równo odległych od siebie punktach \n",
    "- chcemy zeby na zwrocil funkcje nie tablice !!!, przy pozostalych tez mozna pokombinowac\n",
    "- konce sie pokrywaja\n",
    "- zbieznosc dla okresowych\n",
    "    -zrobic wykresy \n",
    "- funkcje nieokresowe\n",
    "    - nie ma zbieznosci dla malej ilosci wielomianow\n",
    "    - dla byzej ilosci sie pokrywa \n",
    "    - sprawdzic jak sie blad zmienia przy kolejnych iteracjach $R^2$ \n",
    "        - po jaki czasie zbiega (wszedzie blad taki sam ustalic) \n",
    "    - zrobic wykresy\n",
    "        - jakieś wlasne przyklady zrobic "
   ]
  },
  {
   "cell_type": "code",
   "execution_count": 12,
   "metadata": {},
   "outputs": [],
   "source": [
    "def horner_method(x, coeffs, z):\n",
    "    \"\"\"\n",
    "    Evaluate a polynomial at a given point using Horner's method.\n",
    "    \n",
    "    Parameters:\n",
    "    x (array-like): Points of the polynomial.\n",
    "    coeffs (array-like): Coefficients of the polynomial.\n",
    "    z (float or array-like): Point(s) at which to evaluate the polynomial.\n",
    "    \n",
    "    Returns:\n",
    "    float or ndarray: Value of the polynomial at point(s) z.\n",
    "    \"\"\"\n",
    "    result = np.zeros_like(z, dtype=float)\n",
    "    for i, c in enumerate(reversed(coeffs)):\n",
    "        if i < len(x):  # Only subtract points up to available x values\n",
    "            result = result * (z - x[i]) + c\n",
    "        else:\n",
    "            result = result * z + c\n",
    "    return result"
   ]
  },
  {
   "cell_type": "code",
   "execution_count": 15,
   "metadata": {},
   "outputs": [
    {
     "data": {
      "text/plain": [
       "-0.75"
      ]
     },
     "execution_count": 15,
     "metadata": {},
     "output_type": "execute_result"
    }
   ],
   "source": [
    "horner_method(np.array([0, 1, 2]), np.array([1,2,3]), 1.5)"
   ]
  },
  {
   "cell_type": "code",
   "execution_count": null,
   "metadata": {},
   "outputs": [],
   "source": []
  }
 ],
 "metadata": {
  "kernelspec": {
   "display_name": "Python 3",
   "language": "python",
   "name": "python3"
  },
  "language_info": {
   "codemirror_mode": {
    "name": "ipython",
    "version": 3
   },
   "file_extension": ".py",
   "mimetype": "text/x-python",
   "name": "python",
   "nbconvert_exporter": "python",
   "pygments_lexer": "ipython3",
   "version": "3.11.5"
  }
 },
 "nbformat": 4,
 "nbformat_minor": 2
}
